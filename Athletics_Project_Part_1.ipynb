{
 "cells": [
  {
   "cell_type": "code",
   "execution_count": 1,
   "id": "6bfe1bfc",
   "metadata": {},
   "outputs": [
    {
     "name": "stdout",
     "output_type": "stream",
     "text": [
      "Requirement already satisfied: xlrd in ./anaconda3/lib/python3.11/site-packages (2.0.1)\n",
      "Note: you may need to restart the kernel to use updated packages.\n"
     ]
    }
   ],
   "source": [
    "pip install xlrd\n"
   ]
  },
  {
   "cell_type": "code",
   "execution_count": 2,
   "id": "e276ba9e",
   "metadata": {},
   "outputs": [
    {
     "data": {
      "text/html": [
       "<div>\n",
       "<style scoped>\n",
       "    .dataframe tbody tr th:only-of-type {\n",
       "        vertical-align: middle;\n",
       "    }\n",
       "\n",
       "    .dataframe tbody tr th {\n",
       "        vertical-align: top;\n",
       "    }\n",
       "\n",
       "    .dataframe thead th {\n",
       "        text-align: right;\n",
       "    }\n",
       "</style>\n",
       "<table border=\"1\" class=\"dataframe\">\n",
       "  <thead>\n",
       "    <tr style=\"text-align: right;\">\n",
       "      <th></th>\n",
       "      <th>UID</th>\n",
       "      <th>ACCOUNT_ID</th>\n",
       "      <th>ATHLETICS_EVENT_ID</th>\n",
       "      <th>ATHLETICS_EVENT_NAME</th>\n",
       "      <th>ATHLETICS_EVENT_DATE</th>\n",
       "      <th>SCAN_MINS_BEFORE_START</th>\n",
       "      <th>SCAN_TIME</th>\n",
       "      <th>SCAN_METHOD</th>\n",
       "      <th>SPORT_NAME</th>\n",
       "      <th>SEASON</th>\n",
       "      <th>ROW_NAME</th>\n",
       "      <th>SECTION_NAME</th>\n",
       "      <th>SEAT_NUMBER</th>\n",
       "      <th>TICKET_ACQUISITION_TYPE</th>\n",
       "      <th>PRICE</th>\n",
       "      <th>DISTANCE_TRAVELLED_IN_MILES</th>\n",
       "    </tr>\n",
       "  </thead>\n",
       "  <tbody>\n",
       "    <tr>\n",
       "      <th>0</th>\n",
       "      <td>3131566</td>\n",
       "      <td>AFDE92EC7FF</td>\n",
       "      <td>260</td>\n",
       "      <td>Clemson v Pittsburgh</td>\n",
       "      <td>2024-02-27</td>\n",
       "      <td>NaN</td>\n",
       "      <td>NaT</td>\n",
       "      <td>NaN</td>\n",
       "      <td>Men's Basketball</td>\n",
       "      <td>2023</td>\n",
       "      <td>AA</td>\n",
       "      <td>140</td>\n",
       "      <td>5</td>\n",
       "      <td>Primary</td>\n",
       "      <td>20.32</td>\n",
       "      <td>115.672231</td>\n",
       "    </tr>\n",
       "    <tr>\n",
       "      <th>1</th>\n",
       "      <td>3131591</td>\n",
       "      <td>A843C37EE78</td>\n",
       "      <td>260</td>\n",
       "      <td>Clemson v Pittsburgh</td>\n",
       "      <td>2024-02-27</td>\n",
       "      <td>-4.0</td>\n",
       "      <td>2024-02-27 19:04:00</td>\n",
       "      <td>iOS AMGR</td>\n",
       "      <td>Men's Basketball</td>\n",
       "      <td>2023</td>\n",
       "      <td>K</td>\n",
       "      <td>140</td>\n",
       "      <td>7</td>\n",
       "      <td>Forward</td>\n",
       "      <td>22.82</td>\n",
       "      <td>NaN</td>\n",
       "    </tr>\n",
       "    <tr>\n",
       "      <th>2</th>\n",
       "      <td>3131722</td>\n",
       "      <td>A44084FFEA8</td>\n",
       "      <td>260</td>\n",
       "      <td>Clemson v Pittsburgh</td>\n",
       "      <td>2024-02-27</td>\n",
       "      <td>2.0</td>\n",
       "      <td>2024-02-27 18:58:00</td>\n",
       "      <td>iOS AMGR</td>\n",
       "      <td>Men's Basketball</td>\n",
       "      <td>2023</td>\n",
       "      <td>V</td>\n",
       "      <td>140</td>\n",
       "      <td>9</td>\n",
       "      <td>Primary</td>\n",
       "      <td>20.32</td>\n",
       "      <td>9.593700</td>\n",
       "    </tr>\n",
       "    <tr>\n",
       "      <th>3</th>\n",
       "      <td>3131765</td>\n",
       "      <td>AE3DBDBE376</td>\n",
       "      <td>260</td>\n",
       "      <td>Clemson v Pittsburgh</td>\n",
       "      <td>2024-02-27</td>\n",
       "      <td>32.0</td>\n",
       "      <td>2024-02-27 18:28:00</td>\n",
       "      <td>Mobile web TM</td>\n",
       "      <td>Men's Basketball</td>\n",
       "      <td>2023</td>\n",
       "      <td>Z</td>\n",
       "      <td>140</td>\n",
       "      <td>5</td>\n",
       "      <td>Forward</td>\n",
       "      <td>20.32</td>\n",
       "      <td>4.367780</td>\n",
       "    </tr>\n",
       "    <tr>\n",
       "      <th>4</th>\n",
       "      <td>3131821</td>\n",
       "      <td>A3DD3E0FD4F</td>\n",
       "      <td>260</td>\n",
       "      <td>Clemson v Pittsburgh</td>\n",
       "      <td>2024-02-27</td>\n",
       "      <td>23.0</td>\n",
       "      <td>2024-02-27 18:37:00</td>\n",
       "      <td>iOS AMGR</td>\n",
       "      <td>Men's Basketball</td>\n",
       "      <td>2023</td>\n",
       "      <td>G</td>\n",
       "      <td>201</td>\n",
       "      <td>10</td>\n",
       "      <td>Forward</td>\n",
       "      <td>20.00</td>\n",
       "      <td>NaN</td>\n",
       "    </tr>\n",
       "  </tbody>\n",
       "</table>\n",
       "</div>"
      ],
      "text/plain": [
       "       UID   ACCOUNT_ID  ATHLETICS_EVENT_ID  ATHLETICS_EVENT_NAME  \\\n",
       "0  3131566  AFDE92EC7FF                 260  Clemson v Pittsburgh   \n",
       "1  3131591  A843C37EE78                 260  Clemson v Pittsburgh   \n",
       "2  3131722  A44084FFEA8                 260  Clemson v Pittsburgh   \n",
       "3  3131765  AE3DBDBE376                 260  Clemson v Pittsburgh   \n",
       "4  3131821  A3DD3E0FD4F                 260  Clemson v Pittsburgh   \n",
       "\n",
       "  ATHLETICS_EVENT_DATE  SCAN_MINS_BEFORE_START           SCAN_TIME  \\\n",
       "0           2024-02-27                     NaN                 NaT   \n",
       "1           2024-02-27                    -4.0 2024-02-27 19:04:00   \n",
       "2           2024-02-27                     2.0 2024-02-27 18:58:00   \n",
       "3           2024-02-27                    32.0 2024-02-27 18:28:00   \n",
       "4           2024-02-27                    23.0 2024-02-27 18:37:00   \n",
       "\n",
       "     SCAN_METHOD        SPORT_NAME  SEASON ROW_NAME SECTION_NAME  SEAT_NUMBER  \\\n",
       "0            NaN  Men's Basketball    2023     AA            140            5   \n",
       "1       iOS AMGR  Men's Basketball    2023     K             140            7   \n",
       "2       iOS AMGR  Men's Basketball    2023     V             140            9   \n",
       "3  Mobile web TM  Men's Basketball    2023     Z             140            5   \n",
       "4       iOS AMGR  Men's Basketball    2023     G             201           10   \n",
       "\n",
       "  TICKET_ACQUISITION_TYPE  PRICE  DISTANCE_TRAVELLED_IN_MILES  \n",
       "0                 Primary  20.32                   115.672231  \n",
       "1                 Forward  22.82                          NaN  \n",
       "2                 Primary  20.32                     9.593700  \n",
       "3                 Forward  20.32                     4.367780  \n",
       "4                 Forward  20.00                          NaN  "
      ]
     },
     "execution_count": 2,
     "metadata": {},
     "output_type": "execute_result"
    }
   ],
   "source": [
    "import pandas as pd\n",
    "import numpy as np\n",
    "import seaborn as sns\n",
    "\n",
    "df = pd.read_excel('GYMNASTICS_DATA.xlsx', sheet_name='ATTENDANCE')\n",
    "df.head()"
   ]
  },
  {
   "cell_type": "code",
   "execution_count": 3,
   "id": "a0024262",
   "metadata": {},
   "outputs": [
    {
     "data": {
      "text/plain": [
       "29441"
      ]
     },
     "execution_count": 3,
     "metadata": {},
     "output_type": "execute_result"
    }
   ],
   "source": [
    "len(np.unique(df['ACCOUNT_ID']))"
   ]
  },
  {
   "cell_type": "code",
   "execution_count": 4,
   "id": "72c80c09",
   "metadata": {},
   "outputs": [
    {
     "data": {
      "text/plain": [
       "Baseball              106482\n",
       "Men's Basketball       75276\n",
       "Women's Gymnastics     43498\n",
       "Softball               40440\n",
       "Women's Basketball      7890\n",
       "Women's Lacrosse        7408\n",
       "Name: SPORT_NAME, dtype: int64"
      ]
     },
     "execution_count": 4,
     "metadata": {},
     "output_type": "execute_result"
    }
   ],
   "source": [
    "df['SPORT_NAME'].value_counts()"
   ]
  },
  {
   "cell_type": "markdown",
   "id": "d19d4a55",
   "metadata": {},
   "source": [
    "----------Number of Customers scanned into a meet----------"
   ]
  },
  {
   "cell_type": "code",
   "execution_count": 5,
   "id": "2c2d248b",
   "metadata": {},
   "outputs": [
    {
     "data": {
      "text/plain": [
       "27606"
      ]
     },
     "execution_count": 5,
     "metadata": {},
     "output_type": "execute_result"
    }
   ],
   "source": [
    "df_gymnastics = df[df['SPORT_NAME'] == 'Women\\'s Gymnastics']\n",
    "df_gymnastics_scanned = df_gymnastics[df_gymnastics['SCAN_METHOD'].notna()]\n",
    "customers_scanned = len(df_gymnastics_scanned)\n",
    "customers_scanned"
   ]
  },
  {
   "cell_type": "code",
   "execution_count": 6,
   "id": "0ca34639",
   "metadata": {},
   "outputs": [
    {
     "data": {
      "text/plain": [
       "Clemson v Air Force         5986\n",
       "Clemson v North Carolina    5906\n",
       "Clemson v NC State          5673\n",
       "Clemson v Pittsburgh        5529\n",
       "Clemson v William & Mary    4512\n",
       "Name: ATHLETICS_EVENT_NAME, dtype: int64"
      ]
     },
     "execution_count": 6,
     "metadata": {},
     "output_type": "execute_result"
    }
   ],
   "source": [
    "df_gymnastics_scanned['ATHLETICS_EVENT_NAME'].value_counts()"
   ]
  },
  {
   "cell_type": "markdown",
   "id": "4c89b024",
   "metadata": {},
   "source": [
    "The above result displays the number of customers scanned into each meet"
   ]
  },
  {
   "cell_type": "markdown",
   "id": "c5d6e2f5",
   "metadata": {},
   "source": [
    "---------- % of seats scanned, scanned in after the start----------"
   ]
  },
  {
   "cell_type": "code",
   "execution_count": 7,
   "id": "a37b25da",
   "metadata": {},
   "outputs": [
    {
     "name": "stdout",
     "output_type": "stream",
     "text": [
      "Percentage of seats scanned for each meet: \n"
     ]
    },
    {
     "data": {
      "text/plain": [
       "Clemson v Air Force         21.683692\n",
       "Clemson v North Carolina    21.393900\n",
       "Clemson v NC State          20.549880\n",
       "Clemson v Pittsburgh        20.028255\n",
       "Clemson v William & Mary    16.344273\n",
       "Name: ATHLETICS_EVENT_NAME, dtype: float64"
      ]
     },
     "execution_count": 7,
     "metadata": {},
     "output_type": "execute_result"
    }
   ],
   "source": [
    "print(\"Percentage of seats scanned for each meet: \")\n",
    "(df_gymnastics_scanned['ATHLETICS_EVENT_NAME'].value_counts()*100)/customers_scanned"
   ]
  },
  {
   "cell_type": "code",
   "execution_count": 8,
   "id": "a62b50ae",
   "metadata": {},
   "outputs": [
    {
     "name": "stdout",
     "output_type": "stream",
     "text": [
      "Percentage of seats scanned after the start of event for each meet: \n"
     ]
    },
    {
     "data": {
      "text/plain": [
       "Clemson v Air Force         12.763114\n",
       "Clemson v NC State          21.928433\n",
       "Clemson v North Carolina    12.834406\n",
       "Clemson v Pittsburgh         8.808103\n",
       "Clemson v William & Mary    22.805851\n",
       "Name: ATHLETICS_EVENT_NAME, dtype: float64"
      ]
     },
     "execution_count": 8,
     "metadata": {},
     "output_type": "execute_result"
    }
   ],
   "source": [
    "df_afterstart = df_gymnastics_scanned[df_gymnastics_scanned['SCAN_MINS_BEFORE_START']<0]\n",
    "per_afterstart=(df_afterstart['ATHLETICS_EVENT_NAME'].value_counts() / df_gymnastics_scanned['ATHLETICS_EVENT_NAME'].value_counts())*100\n",
    "print(\"Percentage of seats scanned after the start of event for each meet: \")\n",
    "per_afterstart"
   ]
  },
  {
   "cell_type": "markdown",
   "id": "b665e541",
   "metadata": {},
   "source": [
    "----------Factors impacting customer attendance----------"
   ]
  },
  {
   "cell_type": "code",
   "execution_count": 9,
   "id": "c8e1c2cf",
   "metadata": {},
   "outputs": [
    {
     "data": {
      "text/html": [
       "<div>\n",
       "<style scoped>\n",
       "    .dataframe tbody tr th:only-of-type {\n",
       "        vertical-align: middle;\n",
       "    }\n",
       "\n",
       "    .dataframe tbody tr th {\n",
       "        vertical-align: top;\n",
       "    }\n",
       "\n",
       "    .dataframe thead th {\n",
       "        text-align: right;\n",
       "    }\n",
       "</style>\n",
       "<table border=\"1\" class=\"dataframe\">\n",
       "  <thead>\n",
       "    <tr style=\"text-align: right;\">\n",
       "      <th></th>\n",
       "      <th>UID</th>\n",
       "      <th>ACCOUNT_ID</th>\n",
       "      <th>ATHLETICS_EVENT_ID</th>\n",
       "      <th>ATHLETICS_EVENT_NAME</th>\n",
       "      <th>ATHLETICS_EVENT_DATE</th>\n",
       "      <th>SCAN_MINS_BEFORE_START</th>\n",
       "      <th>SCAN_TIME</th>\n",
       "      <th>SCAN_METHOD</th>\n",
       "      <th>SPORT_NAME</th>\n",
       "      <th>SEASON</th>\n",
       "      <th>ROW_NAME</th>\n",
       "      <th>SECTION_NAME</th>\n",
       "      <th>SEAT_NUMBER</th>\n",
       "      <th>TICKET_ACQUISITION_TYPE</th>\n",
       "      <th>PRICE</th>\n",
       "      <th>DISTANCE_TRAVELLED_IN_MILES</th>\n",
       "      <th>ATTENDANCE</th>\n",
       "    </tr>\n",
       "  </thead>\n",
       "  <tbody>\n",
       "    <tr>\n",
       "      <th>23887</th>\n",
       "      <td>3447332</td>\n",
       "      <td>A91C6ED50F8</td>\n",
       "      <td>319</td>\n",
       "      <td>Clemson v North Carolina</td>\n",
       "      <td>2024-02-23</td>\n",
       "      <td>57.0</td>\n",
       "      <td>2024-02-23 18:33:00</td>\n",
       "      <td>Android AMGR App</td>\n",
       "      <td>Women's Gymnastics</td>\n",
       "      <td>2023</td>\n",
       "      <td>10</td>\n",
       "      <td>GA09</td>\n",
       "      <td>47</td>\n",
       "      <td>Primary</td>\n",
       "      <td>5.0</td>\n",
       "      <td>13.893945</td>\n",
       "      <td>True</td>\n",
       "    </tr>\n",
       "    <tr>\n",
       "      <th>23994</th>\n",
       "      <td>3447333</td>\n",
       "      <td>A91C6ED50F8</td>\n",
       "      <td>319</td>\n",
       "      <td>Clemson v North Carolina</td>\n",
       "      <td>2024-02-23</td>\n",
       "      <td>57.0</td>\n",
       "      <td>2024-02-23 18:33:00</td>\n",
       "      <td>Android AMGR App</td>\n",
       "      <td>Women's Gymnastics</td>\n",
       "      <td>2023</td>\n",
       "      <td>10</td>\n",
       "      <td>GA09</td>\n",
       "      <td>48</td>\n",
       "      <td>Primary</td>\n",
       "      <td>5.0</td>\n",
       "      <td>13.893945</td>\n",
       "      <td>True</td>\n",
       "    </tr>\n",
       "    <tr>\n",
       "      <th>24078</th>\n",
       "      <td>3447144</td>\n",
       "      <td>A02169A0F51</td>\n",
       "      <td>319</td>\n",
       "      <td>Clemson v North Carolina</td>\n",
       "      <td>2024-02-23</td>\n",
       "      <td>14.0</td>\n",
       "      <td>2024-02-23 19:16:00</td>\n",
       "      <td>iOS AMGR</td>\n",
       "      <td>Women's Gymnastics</td>\n",
       "      <td>2023</td>\n",
       "      <td>3</td>\n",
       "      <td>GA08</td>\n",
       "      <td>12</td>\n",
       "      <td>Primary</td>\n",
       "      <td>5.0</td>\n",
       "      <td>36.875588</td>\n",
       "      <td>True</td>\n",
       "    </tr>\n",
       "    <tr>\n",
       "      <th>24079</th>\n",
       "      <td>3447147</td>\n",
       "      <td>AFFD229FB96</td>\n",
       "      <td>319</td>\n",
       "      <td>Clemson v North Carolina</td>\n",
       "      <td>2024-02-23</td>\n",
       "      <td>51.0</td>\n",
       "      <td>2024-02-23 18:39:00</td>\n",
       "      <td>iOS AMGR App</td>\n",
       "      <td>Women's Gymnastics</td>\n",
       "      <td>2023</td>\n",
       "      <td>3</td>\n",
       "      <td>GA08</td>\n",
       "      <td>15</td>\n",
       "      <td>Primary</td>\n",
       "      <td>5.0</td>\n",
       "      <td>10.068403</td>\n",
       "      <td>True</td>\n",
       "    </tr>\n",
       "    <tr>\n",
       "      <th>24118</th>\n",
       "      <td>3447150</td>\n",
       "      <td>AFFD229FB96</td>\n",
       "      <td>319</td>\n",
       "      <td>Clemson v North Carolina</td>\n",
       "      <td>2024-02-23</td>\n",
       "      <td>NaN</td>\n",
       "      <td>NaT</td>\n",
       "      <td>NaN</td>\n",
       "      <td>Women's Gymnastics</td>\n",
       "      <td>2023</td>\n",
       "      <td>3</td>\n",
       "      <td>GA08</td>\n",
       "      <td>18</td>\n",
       "      <td>Primary</td>\n",
       "      <td>5.0</td>\n",
       "      <td>10.068403</td>\n",
       "      <td>False</td>\n",
       "    </tr>\n",
       "  </tbody>\n",
       "</table>\n",
       "</div>"
      ],
      "text/plain": [
       "           UID   ACCOUNT_ID  ATHLETICS_EVENT_ID      ATHLETICS_EVENT_NAME  \\\n",
       "23887  3447332  A91C6ED50F8                 319  Clemson v North Carolina   \n",
       "23994  3447333  A91C6ED50F8                 319  Clemson v North Carolina   \n",
       "24078  3447144  A02169A0F51                 319  Clemson v North Carolina   \n",
       "24079  3447147  AFFD229FB96                 319  Clemson v North Carolina   \n",
       "24118  3447150  AFFD229FB96                 319  Clemson v North Carolina   \n",
       "\n",
       "      ATHLETICS_EVENT_DATE  SCAN_MINS_BEFORE_START           SCAN_TIME  \\\n",
       "23887           2024-02-23                    57.0 2024-02-23 18:33:00   \n",
       "23994           2024-02-23                    57.0 2024-02-23 18:33:00   \n",
       "24078           2024-02-23                    14.0 2024-02-23 19:16:00   \n",
       "24079           2024-02-23                    51.0 2024-02-23 18:39:00   \n",
       "24118           2024-02-23                     NaN                 NaT   \n",
       "\n",
       "            SCAN_METHOD          SPORT_NAME  SEASON ROW_NAME SECTION_NAME  \\\n",
       "23887  Android AMGR App  Women's Gymnastics    2023       10       GA09     \n",
       "23994  Android AMGR App  Women's Gymnastics    2023       10       GA09     \n",
       "24078          iOS AMGR  Women's Gymnastics    2023        3       GA08     \n",
       "24079      iOS AMGR App  Women's Gymnastics    2023        3       GA08     \n",
       "24118               NaN  Women's Gymnastics    2023        3       GA08     \n",
       "\n",
       "       SEAT_NUMBER TICKET_ACQUISITION_TYPE  PRICE  \\\n",
       "23887           47                 Primary    5.0   \n",
       "23994           48                 Primary    5.0   \n",
       "24078           12                 Primary    5.0   \n",
       "24079           15                 Primary    5.0   \n",
       "24118           18                 Primary    5.0   \n",
       "\n",
       "       DISTANCE_TRAVELLED_IN_MILES  ATTENDANCE  \n",
       "23887                    13.893945        True  \n",
       "23994                    13.893945        True  \n",
       "24078                    36.875588        True  \n",
       "24079                    10.068403        True  \n",
       "24118                    10.068403       False  "
      ]
     },
     "execution_count": 9,
     "metadata": {},
     "output_type": "execute_result"
    }
   ],
   "source": [
    "# Adding Attendance column based on SCAN_TIME column\n",
    "\n",
    "df_gym=df_gymnastics.copy()\n",
    "df_gym.loc[:, 'ATTENDANCE'] = df_gym['SCAN_TIME'].notnull()\n",
    "df_gym.head()"
   ]
  },
  {
   "cell_type": "code",
   "execution_count": 10,
   "id": "6a2f7303",
   "metadata": {},
   "outputs": [
    {
     "data": {
      "text/html": [
       "<div>\n",
       "<style scoped>\n",
       "    .dataframe tbody tr th:only-of-type {\n",
       "        vertical-align: middle;\n",
       "    }\n",
       "\n",
       "    .dataframe tbody tr th {\n",
       "        vertical-align: top;\n",
       "    }\n",
       "\n",
       "    .dataframe thead th {\n",
       "        text-align: right;\n",
       "    }\n",
       "</style>\n",
       "<table border=\"1\" class=\"dataframe\">\n",
       "  <thead>\n",
       "    <tr style=\"text-align: right;\">\n",
       "      <th></th>\n",
       "      <th>UID</th>\n",
       "      <th>ACCOUNT_ID</th>\n",
       "      <th>ATHLETICS_EVENT_ID</th>\n",
       "      <th>ATHLETICS_EVENT_NAME</th>\n",
       "      <th>ATHLETICS_EVENT_DATE</th>\n",
       "      <th>SCAN_MINS_BEFORE_START</th>\n",
       "      <th>SCAN_TIME</th>\n",
       "      <th>SCAN_METHOD</th>\n",
       "      <th>SPORT_NAME</th>\n",
       "      <th>SEASON</th>\n",
       "      <th>ROW_NAME</th>\n",
       "      <th>SECTION_NAME</th>\n",
       "      <th>SEAT_NUMBER</th>\n",
       "      <th>PRICE</th>\n",
       "      <th>DISTANCE_TRAVELLED_IN_MILES</th>\n",
       "      <th>ATTENDANCE</th>\n",
       "      <th>TICKET_ACQUISITION_TYPE_Comp</th>\n",
       "      <th>TICKET_ACQUISITION_TYPE_Forward</th>\n",
       "      <th>TICKET_ACQUISITION_TYPE_Primary</th>\n",
       "      <th>TICKET_ACQUISITION_TYPE_Secondary</th>\n",
       "    </tr>\n",
       "  </thead>\n",
       "  <tbody>\n",
       "    <tr>\n",
       "      <th>23887</th>\n",
       "      <td>3447332</td>\n",
       "      <td>A91C6ED50F8</td>\n",
       "      <td>319</td>\n",
       "      <td>Clemson v North Carolina</td>\n",
       "      <td>2024-02-23</td>\n",
       "      <td>57.0</td>\n",
       "      <td>2024-02-23 18:33:00</td>\n",
       "      <td>Android AMGR App</td>\n",
       "      <td>Women's Gymnastics</td>\n",
       "      <td>2023</td>\n",
       "      <td>10</td>\n",
       "      <td>GA09</td>\n",
       "      <td>47</td>\n",
       "      <td>5.0</td>\n",
       "      <td>13.893945</td>\n",
       "      <td>True</td>\n",
       "      <td>0</td>\n",
       "      <td>0</td>\n",
       "      <td>1</td>\n",
       "      <td>0</td>\n",
       "    </tr>\n",
       "    <tr>\n",
       "      <th>23994</th>\n",
       "      <td>3447333</td>\n",
       "      <td>A91C6ED50F8</td>\n",
       "      <td>319</td>\n",
       "      <td>Clemson v North Carolina</td>\n",
       "      <td>2024-02-23</td>\n",
       "      <td>57.0</td>\n",
       "      <td>2024-02-23 18:33:00</td>\n",
       "      <td>Android AMGR App</td>\n",
       "      <td>Women's Gymnastics</td>\n",
       "      <td>2023</td>\n",
       "      <td>10</td>\n",
       "      <td>GA09</td>\n",
       "      <td>48</td>\n",
       "      <td>5.0</td>\n",
       "      <td>13.893945</td>\n",
       "      <td>True</td>\n",
       "      <td>0</td>\n",
       "      <td>0</td>\n",
       "      <td>1</td>\n",
       "      <td>0</td>\n",
       "    </tr>\n",
       "    <tr>\n",
       "      <th>24078</th>\n",
       "      <td>3447144</td>\n",
       "      <td>A02169A0F51</td>\n",
       "      <td>319</td>\n",
       "      <td>Clemson v North Carolina</td>\n",
       "      <td>2024-02-23</td>\n",
       "      <td>14.0</td>\n",
       "      <td>2024-02-23 19:16:00</td>\n",
       "      <td>iOS AMGR</td>\n",
       "      <td>Women's Gymnastics</td>\n",
       "      <td>2023</td>\n",
       "      <td>3</td>\n",
       "      <td>GA08</td>\n",
       "      <td>12</td>\n",
       "      <td>5.0</td>\n",
       "      <td>36.875588</td>\n",
       "      <td>True</td>\n",
       "      <td>0</td>\n",
       "      <td>0</td>\n",
       "      <td>1</td>\n",
       "      <td>0</td>\n",
       "    </tr>\n",
       "    <tr>\n",
       "      <th>24079</th>\n",
       "      <td>3447147</td>\n",
       "      <td>AFFD229FB96</td>\n",
       "      <td>319</td>\n",
       "      <td>Clemson v North Carolina</td>\n",
       "      <td>2024-02-23</td>\n",
       "      <td>51.0</td>\n",
       "      <td>2024-02-23 18:39:00</td>\n",
       "      <td>iOS AMGR App</td>\n",
       "      <td>Women's Gymnastics</td>\n",
       "      <td>2023</td>\n",
       "      <td>3</td>\n",
       "      <td>GA08</td>\n",
       "      <td>15</td>\n",
       "      <td>5.0</td>\n",
       "      <td>10.068403</td>\n",
       "      <td>True</td>\n",
       "      <td>0</td>\n",
       "      <td>0</td>\n",
       "      <td>1</td>\n",
       "      <td>0</td>\n",
       "    </tr>\n",
       "    <tr>\n",
       "      <th>24118</th>\n",
       "      <td>3447150</td>\n",
       "      <td>AFFD229FB96</td>\n",
       "      <td>319</td>\n",
       "      <td>Clemson v North Carolina</td>\n",
       "      <td>2024-02-23</td>\n",
       "      <td>NaN</td>\n",
       "      <td>NaT</td>\n",
       "      <td>NaN</td>\n",
       "      <td>Women's Gymnastics</td>\n",
       "      <td>2023</td>\n",
       "      <td>3</td>\n",
       "      <td>GA08</td>\n",
       "      <td>18</td>\n",
       "      <td>5.0</td>\n",
       "      <td>10.068403</td>\n",
       "      <td>False</td>\n",
       "      <td>0</td>\n",
       "      <td>0</td>\n",
       "      <td>1</td>\n",
       "      <td>0</td>\n",
       "    </tr>\n",
       "  </tbody>\n",
       "</table>\n",
       "</div>"
      ],
      "text/plain": [
       "           UID   ACCOUNT_ID  ATHLETICS_EVENT_ID      ATHLETICS_EVENT_NAME  \\\n",
       "23887  3447332  A91C6ED50F8                 319  Clemson v North Carolina   \n",
       "23994  3447333  A91C6ED50F8                 319  Clemson v North Carolina   \n",
       "24078  3447144  A02169A0F51                 319  Clemson v North Carolina   \n",
       "24079  3447147  AFFD229FB96                 319  Clemson v North Carolina   \n",
       "24118  3447150  AFFD229FB96                 319  Clemson v North Carolina   \n",
       "\n",
       "      ATHLETICS_EVENT_DATE  SCAN_MINS_BEFORE_START           SCAN_TIME  \\\n",
       "23887           2024-02-23                    57.0 2024-02-23 18:33:00   \n",
       "23994           2024-02-23                    57.0 2024-02-23 18:33:00   \n",
       "24078           2024-02-23                    14.0 2024-02-23 19:16:00   \n",
       "24079           2024-02-23                    51.0 2024-02-23 18:39:00   \n",
       "24118           2024-02-23                     NaN                 NaT   \n",
       "\n",
       "            SCAN_METHOD          SPORT_NAME  SEASON ROW_NAME SECTION_NAME  \\\n",
       "23887  Android AMGR App  Women's Gymnastics    2023       10       GA09     \n",
       "23994  Android AMGR App  Women's Gymnastics    2023       10       GA09     \n",
       "24078          iOS AMGR  Women's Gymnastics    2023        3       GA08     \n",
       "24079      iOS AMGR App  Women's Gymnastics    2023        3       GA08     \n",
       "24118               NaN  Women's Gymnastics    2023        3       GA08     \n",
       "\n",
       "       SEAT_NUMBER  PRICE  DISTANCE_TRAVELLED_IN_MILES  ATTENDANCE  \\\n",
       "23887           47    5.0                    13.893945        True   \n",
       "23994           48    5.0                    13.893945        True   \n",
       "24078           12    5.0                    36.875588        True   \n",
       "24079           15    5.0                    10.068403        True   \n",
       "24118           18    5.0                    10.068403       False   \n",
       "\n",
       "       TICKET_ACQUISITION_TYPE_Comp  TICKET_ACQUISITION_TYPE_Forward  \\\n",
       "23887                             0                                0   \n",
       "23994                             0                                0   \n",
       "24078                             0                                0   \n",
       "24079                             0                                0   \n",
       "24118                             0                                0   \n",
       "\n",
       "       TICKET_ACQUISITION_TYPE_Primary  TICKET_ACQUISITION_TYPE_Secondary  \n",
       "23887                                1                                  0  \n",
       "23994                                1                                  0  \n",
       "24078                                1                                  0  \n",
       "24079                                1                                  0  \n",
       "24118                                1                                  0  "
      ]
     },
     "execution_count": 10,
     "metadata": {},
     "output_type": "execute_result"
    }
   ],
   "source": [
    "from sklearn.ensemble import RandomForestClassifier\n",
    "from sklearn.model_selection import train_test_split\n",
    "\n",
    "#Replaceing unknown distance values with average distance for proper analysis\n",
    "mean_distance = df_gym['DISTANCE_TRAVELLED_IN_MILES'].mean()\n",
    "df_gym['DISTANCE_TRAVELLED_IN_MILES'].fillna(mean_distance, inplace=True)\n",
    "\n",
    "#Performing one hot encoding to convert categorical variables to numerical values\n",
    "one_hot_encoded_data = pd.get_dummies(df_gym, columns = ['TICKET_ACQUISITION_TYPE'])\n",
    "one_hot_encoded_data.head()"
   ]
  },
  {
   "cell_type": "code",
   "execution_count": 11,
   "id": "344bc82f",
   "metadata": {},
   "outputs": [
    {
     "data": {
      "text/html": [
       "<style>#sk-container-id-1 {color: black;}#sk-container-id-1 pre{padding: 0;}#sk-container-id-1 div.sk-toggleable {background-color: white;}#sk-container-id-1 label.sk-toggleable__label {cursor: pointer;display: block;width: 100%;margin-bottom: 0;padding: 0.3em;box-sizing: border-box;text-align: center;}#sk-container-id-1 label.sk-toggleable__label-arrow:before {content: \"▸\";float: left;margin-right: 0.25em;color: #696969;}#sk-container-id-1 label.sk-toggleable__label-arrow:hover:before {color: black;}#sk-container-id-1 div.sk-estimator:hover label.sk-toggleable__label-arrow:before {color: black;}#sk-container-id-1 div.sk-toggleable__content {max-height: 0;max-width: 0;overflow: hidden;text-align: left;background-color: #f0f8ff;}#sk-container-id-1 div.sk-toggleable__content pre {margin: 0.2em;color: black;border-radius: 0.25em;background-color: #f0f8ff;}#sk-container-id-1 input.sk-toggleable__control:checked~div.sk-toggleable__content {max-height: 200px;max-width: 100%;overflow: auto;}#sk-container-id-1 input.sk-toggleable__control:checked~label.sk-toggleable__label-arrow:before {content: \"▾\";}#sk-container-id-1 div.sk-estimator input.sk-toggleable__control:checked~label.sk-toggleable__label {background-color: #d4ebff;}#sk-container-id-1 div.sk-label input.sk-toggleable__control:checked~label.sk-toggleable__label {background-color: #d4ebff;}#sk-container-id-1 input.sk-hidden--visually {border: 0;clip: rect(1px 1px 1px 1px);clip: rect(1px, 1px, 1px, 1px);height: 1px;margin: -1px;overflow: hidden;padding: 0;position: absolute;width: 1px;}#sk-container-id-1 div.sk-estimator {font-family: monospace;background-color: #f0f8ff;border: 1px dotted black;border-radius: 0.25em;box-sizing: border-box;margin-bottom: 0.5em;}#sk-container-id-1 div.sk-estimator:hover {background-color: #d4ebff;}#sk-container-id-1 div.sk-parallel-item::after {content: \"\";width: 100%;border-bottom: 1px solid gray;flex-grow: 1;}#sk-container-id-1 div.sk-label:hover label.sk-toggleable__label {background-color: #d4ebff;}#sk-container-id-1 div.sk-serial::before {content: \"\";position: absolute;border-left: 1px solid gray;box-sizing: border-box;top: 0;bottom: 0;left: 50%;z-index: 0;}#sk-container-id-1 div.sk-serial {display: flex;flex-direction: column;align-items: center;background-color: white;padding-right: 0.2em;padding-left: 0.2em;position: relative;}#sk-container-id-1 div.sk-item {position: relative;z-index: 1;}#sk-container-id-1 div.sk-parallel {display: flex;align-items: stretch;justify-content: center;background-color: white;position: relative;}#sk-container-id-1 div.sk-item::before, #sk-container-id-1 div.sk-parallel-item::before {content: \"\";position: absolute;border-left: 1px solid gray;box-sizing: border-box;top: 0;bottom: 0;left: 50%;z-index: -1;}#sk-container-id-1 div.sk-parallel-item {display: flex;flex-direction: column;z-index: 1;position: relative;background-color: white;}#sk-container-id-1 div.sk-parallel-item:first-child::after {align-self: flex-end;width: 50%;}#sk-container-id-1 div.sk-parallel-item:last-child::after {align-self: flex-start;width: 50%;}#sk-container-id-1 div.sk-parallel-item:only-child::after {width: 0;}#sk-container-id-1 div.sk-dashed-wrapped {border: 1px dashed gray;margin: 0 0.4em 0.5em 0.4em;box-sizing: border-box;padding-bottom: 0.4em;background-color: white;}#sk-container-id-1 div.sk-label label {font-family: monospace;font-weight: bold;display: inline-block;line-height: 1.2em;}#sk-container-id-1 div.sk-label-container {text-align: center;}#sk-container-id-1 div.sk-container {/* jupyter's `normalize.less` sets `[hidden] { display: none; }` but bootstrap.min.css set `[hidden] { display: none !important; }` so we also need the `!important` here to be able to override the default hidden behavior on the sphinx rendered scikit-learn.org. See: https://github.com/scikit-learn/scikit-learn/issues/21755 */display: inline-block !important;position: relative;}#sk-container-id-1 div.sk-text-repr-fallback {display: none;}</style><div id=\"sk-container-id-1\" class=\"sk-top-container\"><div class=\"sk-text-repr-fallback\"><pre>RandomForestClassifier(random_state=42)</pre><b>In a Jupyter environment, please rerun this cell to show the HTML representation or trust the notebook. <br />On GitHub, the HTML representation is unable to render, please try loading this page with nbviewer.org.</b></div><div class=\"sk-container\" hidden><div class=\"sk-item\"><div class=\"sk-estimator sk-toggleable\"><input class=\"sk-toggleable__control sk-hidden--visually\" id=\"sk-estimator-id-1\" type=\"checkbox\" checked><label for=\"sk-estimator-id-1\" class=\"sk-toggleable__label sk-toggleable__label-arrow\">RandomForestClassifier</label><div class=\"sk-toggleable__content\"><pre>RandomForestClassifier(random_state=42)</pre></div></div></div></div></div>"
      ],
      "text/plain": [
       "RandomForestClassifier(random_state=42)"
      ]
     },
     "execution_count": 11,
     "metadata": {},
     "output_type": "execute_result"
    }
   ],
   "source": [
    "#Implementing RandomForest Classifier for calcuating feature importance\n",
    "\n",
    "features = ['SEAT_NUMBER', 'PRICE', 'DISTANCE_TRAVELLED_IN_MILES','TICKET_ACQUISITION_TYPE_Comp','TICKET_ACQUISITION_TYPE_Forward', 'TICKET_ACQUISITION_TYPE_Primary', 'TICKET_ACQUISITION_TYPE_Secondary']\n",
    "X = one_hot_encoded_data[features]\n",
    "y = one_hot_encoded_data['ATTENDANCE']\n",
    "\n",
    "X_train, X_test, y_train, y_test = train_test_split(X, y, test_size=0.2, random_state=42)\n",
    "clf = RandomForestClassifier(random_state=42)\n",
    "clf.fit(X_train, y_train)"
   ]
  },
  {
   "cell_type": "code",
   "execution_count": 12,
   "id": "7ca1f128",
   "metadata": {},
   "outputs": [
    {
     "name": "stdout",
     "output_type": "stream",
     "text": [
      "Feature Importance of the factors affecting customer attendance:\n",
      "\n",
      "DISTANCE_TRAVELLED_IN_MILES          0.700385\n",
      "SEAT_NUMBER                          0.136072\n",
      "PRICE                                0.101781\n",
      "TICKET_ACQUISITION_TYPE_Comp         0.034149\n",
      "TICKET_ACQUISITION_TYPE_Forward      0.015419\n",
      "TICKET_ACQUISITION_TYPE_Primary      0.010531\n",
      "TICKET_ACQUISITION_TYPE_Secondary    0.001663\n",
      "dtype: float64\n"
     ]
    },
    {
     "data": {
      "image/png": "[encoded data removed]",
      "text/plain": [
       "<Figure size 640x480 with 1 Axes>"
      ]
     },
     "metadata": {},
     "output_type": "display_data"
    },
    {
     "data": {
      "text/plain": [
       "<Figure size 1000x600 with 0 Axes>"
      ]
     },
     "metadata": {},
     "output_type": "display_data"
    }
   ],
   "source": [
    "import matplotlib.pyplot as plt\n",
    "\n",
    "# Feature importance\n",
    "feature_importance = pd.Series(clf.feature_importances_, index=X.columns).sort_values(ascending=False)\n",
    "print(\"Feature Importance of the factors affecting customer attendance:\\n\")\n",
    "print(feature_importance)\n",
    "\n",
    "fig, ax = plt.subplots()\n",
    "feature_importance.plot.bar(ax=ax)\n",
    "ax.set_title(\"Feature Importance for Predicting Attendance\")\n",
    "ax.set_ylabel(\"Impact on Attendance\")\n",
    "ax.set_ylim(0, 0.8)  # Set y-limit to 0 and 1\n",
    "fig.tight_layout()\n",
    "plt.xticks(rotation=90)\n",
    "plt.figure(figsize=(10, 6))\n",
    "plt.show()"
   ]
  },
  {
   "cell_type": "code",
   "execution_count": 13,
   "id": "33e11249",
   "metadata": {},
   "outputs": [
    {
     "name": "stdout",
     "output_type": "stream",
     "text": [
      "Permutation Importance of the factors affecting customer attendance:\n",
      "\n",
      "DISTANCE_TRAVELLED_IN_MILES: 0.08298084291187736\n",
      "PRICE: 0.06755938697318002\n",
      "TICKET_ACQUISITION_TYPE_Comp: 0.04930651340996165\n",
      "SEAT_NUMBER: 0.03624904214559382\n",
      "TICKET_ACQUISITION_TYPE_Forward: 0.003333333333333277\n",
      "TICKET_ACQUISITION_TYPE_Secondary: -0.00011494252873567682\n",
      "TICKET_ACQUISITION_TYPE_Primary: -0.0011839080459770594\n"
     ]
    },
    {
     "data": {
      "image/png": "[encoded data removed]",
      "text/plain": [
       "<Figure size 500x600 with 1 Axes>"
      ]
     },
     "metadata": {},
     "output_type": "display_data"
    }
   ],
   "source": [
    "#Permutation Importance\n",
    "\n",
    "from sklearn.inspection import permutation_importance\n",
    "perm_importance = permutation_importance(clf, X_test, y_test, n_repeats=30, random_state=42)\n",
    "feature_importance1 = perm_importance.importances_mean\n",
    "\n",
    "feature_importance_combined = list(zip(features, feature_importance1))\n",
    "sorted_feature_importance = sorted(feature_importance_combined, key=lambda x: x[1], reverse=True)        \n",
    "print(\"Permutation Importance of the factors affecting customer attendance:\\n\")\n",
    "for feature, importance in sorted_feature_importance:\n",
    "    print(f\"{feature}: {importance}\")\n",
    "\n",
    "sorted_indices = (-feature_importance1).argsort()  # Sorting indices in descending order\n",
    "sorted_features = X.columns[sorted_indices]\n",
    "sorted_importance = feature_importance1[sorted_indices]\n",
    "\n",
    "plt.figure(figsize=(5, 6))  # Adjust the figsize as needed\n",
    "plt.bar(sorted_features, sorted_importance)\n",
    "plt.title('Permutation Importance for Predicting Attendance')\n",
    "plt.xlabel('Feature')\n",
    "plt.ylabel('Permutation Importance')\n",
    "plt.xticks(rotation=90)\n",
    "plt.tight_layout()  # Adjusts the layout to prevent overlapping\n",
    "plt.show()"
   ]
  },
  {
   "cell_type": "markdown",
   "id": "7def67b3",
   "metadata": {},
   "source": [
    "From both Feature and Permutaion importance, it is clear that \"DISTANCE_TRAVELLED_IN_MILES\" had the biggest impact on customer attendance followed by \"SEAT_NUMBER\" and \"PRICE\""
   ]
  }
 ],
 "metadata": {
  "kernelspec": {
   "display_name": "Python 3 (ipykernel)",
   "language": "python",
   "name": "python3"
  },
  "language_info": {
   "codemirror_mode": {
    "name": "ipython",
    "version": 3
   },
   "file_extension": ".py",
   "mimetype": "text/x-python",
   "name": "python",
   "nbconvert_exporter": "python",
   "pygments_lexer": "ipython3",
   "version": "3.11.4"
  }
 },
 "nbformat": 4,
 "nbformat_minor": 5
}
